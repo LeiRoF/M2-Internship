{
 "cells": [
  {
   "cell_type": "code",
   "execution_count": null,
   "metadata": {},
   "outputs": [],
   "source": [
    "import os\n",
    "from src import physcial_models\n",
    "import numpy as np\n",
    "\n",
    "path = os.listdir(\"data/dataset\")[0]\n",
    "\n",
    "data = np.load(path)\n",
    "\n",
    "np.array([data[\"n_H\"]]),\n",
    "np.array([data[\"r\"]]),\n",
    "np.array([data[\"p\"]]),\n",
    "plummer_profile_1D = physcial_models.plummer(\n",
    "    space_range=data[\"space_range\"],\n",
    "    max=data[\"n_H\"],\n",
    "    radius=data[\"r\"],\n",
    "    slope=data[\"p\"],\n",
    ")"
   ]
  }
 ],
 "metadata": {
  "language_info": {
   "name": "python"
  },
  "orig_nbformat": 4
 },
 "nbformat": 4,
 "nbformat_minor": 2
}
