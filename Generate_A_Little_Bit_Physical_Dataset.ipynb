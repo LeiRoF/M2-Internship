{
 "cells": [
  {
   "attachments": {},
   "cell_type": "markdown",
   "metadata": {},
   "source": [
    "---\n",
    "\n",
    "# Initialization"
   ]
  },
  {
   "attachments": {},
   "cell_type": "markdown",
   "metadata": {},
   "source": [
    "### Imports"
   ]
  },
  {
   "cell_type": "code",
   "execution_count": null,
   "metadata": {},
   "outputs": [],
   "source": [
    "import numpy as np\n",
    "import matplotlib.pyplot as plt\n",
    "from LRFutils import archive, progress\n",
    "from src import plot\n",
    "from scipy.special import wofz\n",
    "from multiprocess import Pool, cpu_count\n",
    "import os\n",
    "import pyvtk as vtk\n",
    "import psutil"
   ]
  },
  {
   "attachments": {},
   "cell_type": "markdown",
   "metadata": {},
   "source": [
    "### Constants"
   ]
  },
  {
   "cell_type": "code",
   "execution_count": null,
   "metadata": {},
   "outputs": [],
   "source": [
    "h = 6.626196e-27 # erg.s\n",
    "k = 1.380662e-16 # erg/K\n",
    "c = 2.99792458e10 # cm/s\n",
    "T = 10 # K\n",
    "pi = np.pi"
   ]
  },
  {
   "attachments": {},
   "cell_type": "markdown",
   "metadata": {},
   "source": [
    "### Class definitions"
   ]
  },
  {
   "cell_type": "code",
   "execution_count": null,
   "metadata": {},
   "outputs": [],
   "source": [
    "class Gas:\n",
    "    def __init__(\n",
    "            self,\n",
    "            f=None,\n",
    "            profile=None,\n",
    "            density_cube=None,\n",
    "            velocity_cube=None,\n",
    "            v0=None,\n",
    "            sigma_v=None,\n",
    "            A12=None,\n",
    "            B12=None,\n",
    "            B21=None,\n",
    "            emissivity=None,\n",
    "            absorption=None,\n",
    "\n",
    "        ):\n",
    "        self.f = f\n",
    "        self.profile = profile\n",
    "        self.density_cube = density_cube\n",
    "        self.velocity_cube = velocity_cube\n",
    "        self.v0 = v0\n",
    "        self.sigma_v = sigma_v\n",
    "        self.A12 = A12\n",
    "        self.B12 = B12\n",
    "        self.B21 = B21\n",
    "        self.emissivity = emissivity\n",
    "        self.absorption = absorption\n",
    "\n",
    "    @property\n",
    "    def n_ratio(self):\n",
    "        return 3#1/np.exp(-h*self.v0 / (k*T))\n",
    "\n",
    "    @property\n",
    "    def n1(self):\n",
    "        return self.density_cube - self.density_cube / (self.n_ratio + 1)\n",
    "    \n",
    "    @property\n",
    "    def n2(self):\n",
    "        return self.density_cube / (self.n_ratio + 1)"
   ]
  },
  {
   "attachments": {},
   "cell_type": "markdown",
   "metadata": {},
   "source": [
    "### Functions definitions"
   ]
  },
  {
   "cell_type": "code",
   "execution_count": null,
   "metadata": {},
   "outputs": [],
   "source": [
    "def gaussian(x, m=0.5, s=0.05):\n",
    "    return np.exp(- (x - m)**2 / (2 * s**2))\n",
    "\n",
    "def lorentzian(x, mu, gamma):\n",
    "    return gamma / (np.pi * ((x - mu)**2 + gamma**2))\n",
    "\n",
    "def plummer(r, R=0.75):\n",
    "    return 3/(4*np.pi*R**3)*(1 + r**2 / R**2)**(-5/2)\n",
    "\n",
    "def voigt_profile(freq_range, sigma, gamma):\n",
    "    x = freq_range\n",
    "    y = np.zeros_like(x)\n",
    "    for i, x_i in enumerate(x):\n",
    "        z = (x_i + 1j * gamma) / (sigma * np.sqrt(2))\n",
    "        y[i] = np.real(wofz(z)) / (sigma * np.sqrt(2*np.pi))\n",
    "    return y\n",
    "\n",
    "def sigmoid(x, d=0.5, l=10):\n",
    "    return 1/(1+np.exp(-l*(x-d)))\n",
    "\n",
    "def black_body(f, T):\n",
    "    return 2 * h * f**3 / c**2 / (np.exp(h * f / k / T) - 1)\n",
    "\n",
    "def system_info():\n",
    "    return f\"CPU: {psutil.cpu_percent()}%\"\\\n",
    "        + f\", RAM: {psutil.virtual_memory().percent}%\"\\\n",
    "        + f\" ({psutil.virtual_memory().used/1024**3:.2f}GB\"\\\n",
    "        + f\"/ {psutil.virtual_memory().total/1024**3:.2f}GB)\""
   ]
  },
  {
   "attachments": {},
   "cell_type": "markdown",
   "metadata": {},
   "source": [
    "### Configuration"
   ]
  },
  {
   "cell_type": "code",
   "execution_count": null,
   "metadata": {},
   "outputs": [],
   "source": [
    "nb_simu = 1000 # number of generated simulations\n",
    "# ⚠️ Be carefull, the final dataset will be proportional to nb_images = 6 * nb_simu\n",
    "\n",
    "# Global\n",
    "N = 64 # resolution in pixel\n",
    "r, dr = np.linspace(-1, 1, N, endpoint=True, retstep=True) # range of the space in pc\n",
    "\n",
    "# Plummer profile (density)\n",
    "plummer_radius = 0.9 # pc\n",
    "max_density = 1e8 # hydrogen atom . cm-3    default: 1e6\n",
    "\n",
    "CO_fractional_abundance = 1e-4 # particle / hydrogen atom\n",
    "N2H_fractional_abundance = 1e-7 # particle / hydrogen atom\n",
    "\n",
    "# Sigmoid parameters (repartition of the gas)\n",
    "sigmoid_treshold = max_density/2 # particle.cm-3\n",
    "sigmoid_slope = 50/max_density\n",
    "\n",
    "# CO\n",
    "CO = Gas()\n",
    "CO.v0 = 115.27120e9 # Hz\n",
    "CO.sigma_v = 1 # cm-1\n",
    "CO.f = np.linspace(CO.v0 - 10, CO.v0 + 10, N)\n",
    "CO.profile = gaussian(CO.f, CO.v0, CO.sigma_v)\n",
    "CO.A21 = 7.203e-8 # s-1\n",
    "CO.B21 = 2.574e-6 # cm+2 . erg-1 . s-1\n",
    "CO.B12 = 2.713e-6 # cm+2 . erg-1 . s-1\n",
    "\n",
    "print(\"n1/n2 for CO:\", CO.n_ratio)\n",
    "\n",
    "# N2H+\n",
    "N2H = Gas()\n",
    "N2H.v0 = 93.17371e9 # Hz\n",
    "N2H.sigma_v = 1 # Hz\n",
    "N2H.f = np.linspace(N2H.v0 - 10, N2H.v0 + 10, N)\n",
    "N2H.profile = gaussian(N2H.f, N2H.v0, N2H.sigma_v)\n",
    "N2H.A21 = 3.929e-5 # s-1\n",
    "N2H.B21 = 1.226e-5 # cm+2 . erg-1 . s-1\n",
    "N2H.B12 = 2.832e-5 # cm+2 . erg-1 . s-1\n",
    "\n",
    "print(\"n1/n2 for N2H+:\", N2H.n_ratio)"
   ]
  },
  {
   "attachments": {},
   "cell_type": "markdown",
   "metadata": {},
   "source": [
    "### Verification"
   ]
  },
  {
   "cell_type": "code",
   "execution_count": null,
   "metadata": {},
   "outputs": [],
   "source": [
    "plt.figure(figsize=(10, 3))\n",
    "plt.subplot(121)\n",
    "plt.plot(CO.f/1e9, CO.profile)\n",
    "plt.title(\"CO profile\")\n",
    "plt.xlabel(\"Frequency (GHz)\")\n",
    "plt.ylabel(\"Intensity (arb. unit)\")\n",
    "plt.subplot(122)\n",
    "plt.plot(N2H.f/1e9, N2H.profile)\n",
    "plt.title(\"N2H+ profile\")\n",
    "plt.xlabel(\"Frequency (GHz)\")    \n",
    "plt.ylabel(\"Intensity (arb. unit)\")\n",
    "plt.show()"
   ]
  },
  {
   "cell_type": "code",
   "execution_count": null,
   "metadata": {},
   "outputs": [],
   "source": [
    "plt.figure(figsize=(10, 3))\n",
    "tmp = max(max_density, 2*sigmoid_treshold)\n",
    "tmp = np.linspace(0, tmp, 1000)\n",
    "tmp2 = sigmoid(tmp, sigmoid_treshold, sigmoid_slope)\n",
    "plt.plot(tmp[tmp2 < 0.01], tmp2[tmp2 < 0.01], label=\"CO\")\n",
    "plt.plot(tmp[tmp2 > 0.99], tmp2[tmp2 > 0.99], label=\"N2H+\")\n",
    "plt.plot(tmp[(tmp2 > 0.01) & (tmp2 < 0.99)], tmp2[(tmp2 > 0.01) & (tmp2 < 0.99)], label=\"Transition zone\")\n",
    "plt.axvline(max_density, color=\"k\", linestyle=\"--\", label=\"Max density\")\n",
    "plt.xlabel(\"Density (particle.cm-3)\")\n",
    "plt.ylabel(\"CO / N2H+ ratio\")\n",
    "plt.legend()\n",
    "plt.show()"
   ]
  },
  {
   "attachments": {},
   "cell_type": "markdown",
   "metadata": {},
   "source": [
    "### Environment variables"
   ]
  },
  {
   "cell_type": "code",
   "execution_count": null,
   "metadata": {},
   "outputs": [],
   "source": [
    "X, Y, Z = np.meshgrid(r, r, r)\n",
    "R = np.sqrt(X**2 + Y**2 + Z**2)\n",
    "\n",
    "archive_path = archive.new(\"Generation\", verbose=True)\n",
    "\n",
    "try:\n",
    "    ncpu = cpu_count()\n",
    "except:\n",
    "    with open(os.getenv(\"OAR_NODEFILE\"), 'r') as f:\n",
    "        ncpu = len(f.readlines())"
   ]
  },
  {
   "attachments": {},
   "cell_type": "markdown",
   "metadata": {},
   "source": [
    "---\n",
    "\n",
    "# Cloud density generation"
   ]
  },
  {
   "cell_type": "code",
   "execution_count": null,
   "metadata": {},
   "outputs": [],
   "source": [
    "p = plummer(R, plummer_radius)\n",
    "dust_cube = max_density * p / np.max(p)\n",
    "CO.density_cube = dust_cube * (1 - sigmoid(dust_cube, sigmoid_treshold, sigmoid_slope))\n",
    "CO. density_cube = CO_fractional_abundance * CO.density_cube * np.max(dust_cube) / np.max(CO.density_cube)\n",
    "N2H.density_cube = dust_cube * sigmoid(dust_cube, sigmoid_treshold, sigmoid_slope)\n",
    "N2H. density_cube = N2H_fractional_abundance * N2H.density_cube * np.max(dust_cube) / np.max(N2H.density_cube)"
   ]
  },
  {
   "cell_type": "code",
   "execution_count": null,
   "metadata": {},
   "outputs": [],
   "source": [
    "plt.figure(figsize=(15, 5))\n",
    "plt.subplot(131)    \n",
    "im = plt.imshow(dust_cube[N//2], origin=\"lower\", cmap=\"inferno\")\n",
    "plt.colorbar(im)\n",
    "plt.title(\"Dust density\")\n",
    "plt.subplot(132)\n",
    "im = plt.imshow(CO.density_cube[N//2], origin=\"lower\", cmap=\"inferno\")\n",
    "plt.colorbar(im)\n",
    "plt.title(\"CO density\")\n",
    "plt.subplot(133)\n",
    "im = plt.imshow(N2H.density_cube[N//2], origin=\"lower\", cmap=\"inferno\")\n",
    "plt.colorbar(im)\n",
    "plt.title(\"N2H+ density\")\n",
    "plt.show()"
   ]
  },
  {
   "cell_type": "code",
   "execution_count": null,
   "metadata": {},
   "outputs": [],
   "source": [
    "plt.figure(figsize=(15, 5))\n",
    "plt.subplot(131)    \n",
    "im = plt.imshow(np.sum(dust_cube, axis=0) * dr * 3.0857E+18, origin=\"lower\", cmap=\"inferno\")\n",
    "plt.colorbar(im)\n",
    "plt.title(\"Dust density\")\n",
    "plt.subplot(132)\n",
    "im = plt.imshow(np.sum(CO.density_cube, axis=0) * dr * 3.0857E+18, origin=\"lower\", cmap=\"inferno\")\n",
    "plt.colorbar(im)\n",
    "plt.title(\"CO density\")\n",
    "plt.subplot(133)\n",
    "im = plt.imshow(np.sum(N2H.density_cube, axis=0) * dr * 3.0857E+18, origin=\"lower\", cmap=\"inferno\")\n",
    "plt.colorbar(im)\n",
    "plt.title(\"N2H+ density\")\n",
    "plt.show()"
   ]
  },
  {
   "attachments": {},
   "cell_type": "markdown",
   "metadata": {},
   "source": [
    "---\n",
    "\n",
    "# Cloud velocity generation"
   ]
  },
  {
   "cell_type": "code",
   "execution_count": null,
   "metadata": {},
   "outputs": [],
   "source": [
    "CO.velocity_cube = np.zeros((N, N, N))\n",
    "N2H.velocity_cube = np.zeros((N, N, N))"
   ]
  },
  {
   "cell_type": "code",
   "execution_count": null,
   "metadata": {},
   "outputs": [],
   "source": [
    "plt.figure(figsize=(15, 5))\n",
    "plt.subplot(121)\n",
    "im = plt.imshow(CO.velocity_cube[N//2], origin=\"lower\", cmap=\"seismic_r\")\n",
    "plt.colorbar(im)\n",
    "plt.title(\"CO velocity\")\n",
    "plt.subplot(122)\n",
    "im = plt.imshow(N2H.velocity_cube[N//2], origin=\"lower\", cmap=\"seismic_r\")\n",
    "plt.colorbar(im)\n",
    "plt.title(\"N2H+ velocity\")\n",
    "plt.show()"
   ]
  },
  {
   "attachments": {},
   "cell_type": "markdown",
   "metadata": {},
   "source": [
    "---\n",
    "\n",
    "# Radiative transfer"
   ]
  },
  {
   "attachments": {},
   "cell_type": "markdown",
   "metadata": {},
   "source": [
    "### Emmissivity and absorption"
   ]
  },
  {
   "cell_type": "code",
   "execution_count": null,
   "metadata": {},
   "outputs": [],
   "source": [
    "for gas in [CO, N2H]:\n",
    "    gas.emissivity_hypercube = np.zeros((N, N, N, len(gas.f)))\n",
    "    gas.absorption_hypercube = np.zeros((N, N, N, len(gas.f)))\n",
    "\n",
    "    for f in range(len(gas.f)):\n",
    "        gas.absorption_hypercube[:,:,:,f] = h * gas.v0 / (4 * pi) * (gas.n1 * gas.B12 - gas.n2 * gas.B21) * gas.profile[f]\n",
    "        gas.emissivity_hypercube[:,:,:,f] = h * gas.v0 / (4 * pi) * (gas.A21 * gas.n2) * gas.profile[f]"
   ]
  },
  {
   "cell_type": "code",
   "execution_count": null,
   "metadata": {},
   "outputs": [],
   "source": [
    "plt.figure(figsize=(15, 5))\n",
    "plt.subplot(121)\n",
    "plt.plot(CO.f, CO.emissivity_hypercube[N//2,N//2,N//2,:], label=\"Emissivity\")\n",
    "plt.plot(CO.f, CO.absorption_hypercube[N//2,N//2,N//2,:], label=\"Absorption\")\n",
    "plt.title(\"CO (at the center of the cloud)\")\n",
    "plt.xlabel(\"Frequency (Hz)\")\n",
    "plt.ylabel(\"Intensity (arb. unit)\")\n",
    "plt.legend()\n",
    "plt.subplot(122)\n",
    "plt.plot(N2H.f, N2H.emissivity_hypercube[N//2,N//2,N//2,:], label=\"Emissivity\")\n",
    "plt.plot(N2H.f, N2H.absorption_hypercube[N//2,N//2,N//2,:], label=\"Absorption\")\n",
    "plt.title(\"N2H+ (at the center of the cloud)\")\n",
    "plt.xlabel(\"Frequency (Hz)\")\n",
    "plt.ylabel(\"Intensity (arb. unit)\")\n",
    "plt.legend()\n",
    "plt.show()\n"
   ]
  },
  {
   "cell_type": "code",
   "execution_count": null,
   "metadata": {},
   "outputs": [],
   "source": [
    "dN = dr * 3.0857E+18 # parsec to cm\n",
    "\n",
    "for gas in [CO, N2H]:\n",
    "\n",
    "    kappa = gas.absorption_hypercube\n",
    "    epsilon = gas.emissivity_hypercube\n",
    "    print(\"Epsilon min and max:\", np.amin(epsilon), np.amax(epsilon))\n",
    "    print(\"Kappa min and max:\", np.amin(kappa), np.amax(kappa))\n",
    "\n",
    "    # Integrating the equation of radiative transfer\n",
    "    gas.observation = np.zeros((N, N, len(gas.f)))\n",
    "    \n",
    "    fig, axs = plt.subplots(5, 11, figsize=(25, 10))\n",
    "    cpt = 0\n",
    "    axs[0,0].set_ylabel(r\"$\\kappa_\\nu \\Delta n$\")\n",
    "    axs[1,0].set_ylabel(r\"$\\tau_\\nu(s' \\rightarrow S)$\")\n",
    "    axs[2,0].set_ylabel(r\"$e^{-\\tau_\\nu(s' \\rightarrow S)}$\")\n",
    "    axs[3,0].set_ylabel(r\"$\\epsilon_\\nu e^{-\\tau_\\nu(s' \\rightarrow S)}\\Delta n$\")\n",
    "    axs[4,0].set_ylabel(r\"$I_\\nu(S)$\")\n",
    "\n",
    "    for i in range(0,N):\n",
    "\n",
    "        # Computing Tau_s\n",
    "        tau = np.zeros((N, N, len(gas.f)))\n",
    "        for j in np.arange(i, N):\n",
    "            tau += kappa[j] * dN\n",
    "\n",
    "        layer_contrib = epsilon[i] * np.exp(-tau) * dN\n",
    "        gas.observation += layer_contrib\n",
    "\n",
    "        if i % (N//10) == 0:\n",
    "            im = axs[0, cpt].imshow(kappa[i][:,:,N//2] * dN, origin=\"lower\", cmap=\"inferno\")\n",
    "            plt.colorbar(im)\n",
    "            im = axs[1, cpt].imshow(tau[:,:,N//2], origin=\"lower\")\n",
    "            plt.colorbar(im)\n",
    "            im = axs[2, cpt].imshow(np.exp(-tau)[:,:,N//2], origin=\"lower\", cmap=\"gray\")\n",
    "            plt.colorbar(im)\n",
    "            im = axs[3, cpt].imshow(layer_contrib[:,:,N//2], origin=\"lower\", cmap=\"inferno\")\n",
    "            plt.colorbar(im)\n",
    "            im = axs[4, cpt].imshow(gas.observation[:,:,N//2], origin=\"lower\", cmap=\"inferno\")\n",
    "            plt.colorbar(im)\n",
    "            cpt += 1"
   ]
  },
  {
   "cell_type": "code",
   "execution_count": null,
   "metadata": {},
   "outputs": [],
   "source": [
    "# Computing Tau_s\n",
    "tau_s = np.zeros((N, N, len(gas.f)))\n",
    "for Np in range(N):\n",
    "    tau_s += CO.absorption_hypercube[Np] * dr * 3.0857E+18 # parsec to cm\n",
    "\n",
    "plt.figure(figsize=(10, 10))\n",
    "plt.imshow(tau_s[:,:,N//2], origin=\"lower\")\n",
    "plt.colorbar()\n",
    "plt.show()"
   ]
  },
  {
   "cell_type": "code",
   "execution_count": null,
   "metadata": {},
   "outputs": [],
   "source": [
    "plt.figure(figsize=(15, 10))\n",
    "plt.subplot(221)\n",
    "plt.imshow(CO.observation[:,:,N//2], origin=\"lower\", cmap=\"inferno\")\n",
    "plt.colorbar()\n",
    "plt.title(\"CO observation\")\n",
    "plt.subplot(222)\n",
    "plt.plot(CO.f, CO.observation[N//2,N//2,:])\n",
    "plt.title(\"CO spectrum (at the center of the cloud)\")\n",
    "plt.xlabel(\"Frequency (Hz)\")\n",
    "plt.ylabel(\"Intensity (erg)\")\n",
    "plt.subplot(223)\n",
    "plt.imshow(N2H.observation[:,:,N//2], origin=\"lower\", cmap=\"inferno\")\n",
    "plt.colorbar()\n",
    "plt.title(\"N2H+ observation\")\n",
    "plt.subplot(224)    \n",
    "plt.plot(N2H.f, N2H.observation[N//2,N//2,:])\n",
    "plt.title(\"N2H+ spectrum (at the center of the cloud)\")\n",
    "plt.xlabel(\"Frequency (Hz)\")    \n",
    "plt.ylabel(\"Intensity (erg)\")\n",
    "plt.show()"
   ]
  },
  {
   "attachments": {},
   "cell_type": "markdown",
   "metadata": {},
   "source": [
    "---\n",
    "\n",
    "# Save data as LOC inputs\n",
    "\n",
    "Follwing the [LOC documentation](interstellarmedium.org/radiative_transfer/loc/)"
   ]
  },
  {
   "cell_type": "code",
   "execution_count": null,
   "metadata": {},
   "outputs": [],
   "source": [
    "# Model cloud description\n",
    "\n",
    "header = np.array([N, N, N,], dtype=np.int32)\n",
    "model = np.zeros((N, N, N, 7), dtype=np.float32)\n",
    "\n",
    "model[:,:,:,0] = dust_cube # cloud density\n",
    "model[:,:,:,1] = T # kinetic temperature\n",
    "model[:,:,:,2] = 0 # microturbulence\n",
    "model[:,:,:,3] = 0 # macroscopic velocity (x)\n",
    "model[:,:,:,4] = 0 # macroscopic velocity (y)\n",
    "model[:,:,:,5] = 0 # macroscopic velocity (z)\n",
    "model[:,:,:,6] = CO_fractional_abundance # fractional abundance\n",
    "\n",
    "with open(\"rsrc/LOC/input_model.bin\", \"wb\") as file:\n",
    "    header.tofile(file)\n",
    "    model.tofile(file)"
   ]
  },
  {
   "cell_type": "code",
   "execution_count": null,
   "metadata": {},
   "outputs": [],
   "source": [
    "# Initialisation file\n",
    "\n",
    "config = [\n",
    "    (\"abundance\", 1),\n",
    "    # (\"alpha\", 0), \n",
    "    (\"angle\", 1),\n",
    "    # (\"bandwidth\", ?),\n",
    "    # (\"cabfile\", ?),\n",
    "    (\"channels\", 1),\n",
    "    (\"cloud\", \"input_model.bin\"),\n",
    "    # (\"cooling\"),\n",
    "    (\"density\", 1),\n",
    "    (\"device\", \"g\"),\n",
    "    (\"direction\", 90, 0)\n",
    "    (\"distance\", 7200),\n",
    "    (\"fraction\", 1),\n",
    "    (\"gpu\", 1),\n",
    "    (\"grid\", 0.1),\n",
    "    # (\"isotropic\", ?),\n",
    "    (\"iterations\", 1),\n",
    "    # (\"load\", \"output\"),\n",
    "    # (\"local\", 1),\n",
    "    (\"levels\", 1),\n",
    "    # (\"lowmem\"),\n",
    "    (\"molecule\", \"input_molecule.dat\"),\n",
    "    # (\"nray\", ?),\n",
    "    # (\"nside\", 1),\n",
    "    # (\"overlap\", ?),\n",
    "    # (\"platform\", 0),\n",
    "    (\"points\", 10, 10),\n",
    "    (\"prefix\", \"output_\"),\n",
    "    (\"tausave\", 1),\n",
    "    (\"save\", \"level_population.bin\"),\n",
    "    # (\"sigma\", 1.0),\n",
    "    # (\"spectra\", ?),\n",
    "    # (\"speray\", ?),\n",
    "    # (\"stop\", 0.000001),\n",
    "    (\"temperature\", 1),\n",
    "    # (\"transitions\", ),\n",
    "    # (\"uppermost\", 1),\n",
    "    (\"velocity\", 1),\n",
    "]\n",
    "\n",
    "with open(\"rsrc/LOC/input_config.ini\", \"w\") as file:\n",
    "    for line in config:\n",
    "        file.write(\" \".join([str(x) for x in line]) + \"\\n\")"
   ]
  },
  {
   "cell_type": "code",
   "execution_count": null,
   "metadata": {},
   "outputs": [],
   "source": [
    "# Molecule parameters\n",
    "\n",
    "molecule = [\n",
    "    [\n",
    "        (1, 0, 1),\n",
    "        (0, 1)\n",
    "    ],\n",
    "]\n",
    "\n",
    "with open(\"rsrc/LOC/input_molecule.ini\", \"w\") as file:\n",
    "\n",
    "    transitions = []\n",
    "    for transition in molecule:\n",
    "        transitions.append(\" \".join([str(x) for x in line]) + \"\\n\")\n",
    "        \n",
    "    for transition in transitions:\n",
    "        file.write(\"\\n\".join(transitions))"
   ]
  }
 ],
 "metadata": {
  "kernelspec": {
   "display_name": "venv",
   "language": "python",
   "name": "python3"
  },
  "language_info": {
   "codemirror_mode": {
    "name": "ipython",
    "version": 3
   },
   "file_extension": ".py",
   "mimetype": "text/x-python",
   "name": "python",
   "nbconvert_exporter": "python",
   "pygments_lexer": "ipython3",
   "version": "3.10.10"
  },
  "vscode": {
   "interpreter": {
    "hash": "4273a5f9333d8b877e3d7dd39ae42051c41fece7153122659cbd873aee3ad249"
   }
  }
 },
 "nbformat": 4,
 "nbformat_minor": 4
}
