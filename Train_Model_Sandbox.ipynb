{
 "cells": [
  {
   "attachments": {},
   "cell_type": "markdown",
   "metadata": {},
   "source": [
    "---\n",
    "\n",
    "<div align=center>\n",
    "\n",
    "# **Initialisation**\n",
    "\n",
    "</div>"
   ]
  },
  {
   "attachments": {},
   "cell_type": "markdown",
   "metadata": {},
   "source": [
    "### Environment"
   ]
  },
  {
   "cell_type": "code",
   "execution_count": 4,
   "metadata": {},
   "outputs": [
    {
     "name": "stdout",
     "output_type": "stream",
     "text": [
      "Tue Mar 28 11:03:33 2023       \n",
      "+-----------------------------------------------------------------------------+\n",
      "| NVIDIA-SMI 470.42.01    Driver Version: 470.42.01    CUDA Version: 11.4     |\n",
      "|-------------------------------+----------------------+----------------------+\n",
      "| GPU  Name        Persistence-M| Bus-Id        Disp.A | Volatile Uncorr. ECC |\n",
      "| Fan  Temp  Perf  Pwr:Usage/Cap|         Memory-Usage | GPU-Util  Compute M. |\n",
      "|                               |                      |               MIG M. |\n",
      "|===============================+======================+======================|\n",
      "|   0  Quadro RTX 6000     On   | 00000000:3B:00.0 Off |                    0 |\n",
      "| N/A   24C    P8    21W / 250W |      0MiB / 22698MiB |      0%      Default |\n",
      "|                               |                      |                  N/A |\n",
      "+-------------------------------+----------------------+----------------------+\n",
      "                                                                               \n",
      "+-----------------------------------------------------------------------------+\n",
      "| Processes:                                                                  |\n",
      "|  GPU   GI   CI        PID   Type   Process name                  GPU Memory |\n",
      "|        ID   ID                                                   Usage      |\n",
      "|=============================================================================|\n",
      "|  No running processes found                                                 |\n",
      "+-----------------------------------------------------------------------------+\n"
     ]
    }
   ],
   "source": [
    "!nvidia-smi"
   ]
  },
  {
   "cell_type": "code",
   "execution_count": 5,
   "metadata": {},
   "outputs": [
    {
     "name": "stdout",
     "output_type": "stream",
     "text": [
      "/bin/bash: line 1: nvcc: command not found\n"
     ]
    }
   ],
   "source": [
    "!nvcc --version"
   ]
  },
  {
   "cell_type": "code",
   "execution_count": 6,
   "metadata": {},
   "outputs": [],
   "source": [
    "import os\n",
    "os.environ['TF_ENABLE_ONEDNN_OPTS'] = '0'"
   ]
  },
  {
   "attachments": {},
   "cell_type": "markdown",
   "metadata": {},
   "source": [
    "### Dependencies"
   ]
  },
  {
   "cell_type": "code",
   "execution_count": 29,
   "metadata": {},
   "outputs": [],
   "source": [
    "import numpy as np\n",
    "import tensorflow as tf\n",
    "from LRFutils import archive, progress\n",
    "from multiprocess import Pool, cpu_count\n",
    "import psutil\n",
    "import pandas as pd\n",
    "import matplotlib.pyplot as plt\n",
    "from copy import deepcopy as copy"
   ]
  },
  {
   "cell_type": "code",
   "execution_count": 8,
   "metadata": {},
   "outputs": [
    {
     "name": "stdout",
     "output_type": "stream",
     "text": [
      "Num GPUs Available:  1\n"
     ]
    }
   ],
   "source": [
    "print(\"Num GPUs Available: \", len(tf.config.list_physical_devices('GPU')))"
   ]
  },
  {
   "attachments": {},
   "cell_type": "markdown",
   "metadata": {},
   "source": [
    "### Configuration"
   ]
  },
  {
   "cell_type": "code",
   "execution_count": 9,
   "metadata": {},
   "outputs": [],
   "source": [
    "valid_frac = 0.2\n",
    "test_frac  = 0.1\n",
    "dataset_path = \"data/dataset\""
   ]
  },
  {
   "attachments": {},
   "cell_type": "markdown",
   "metadata": {},
   "source": [
    "### Global variables"
   ]
  },
  {
   "cell_type": "code",
   "execution_count": 10,
   "metadata": {},
   "outputs": [],
   "source": [
    "archive_path = archive.new()\n",
    "\n",
    "try:\n",
    "    ncpu = cpu_count()\n",
    "except:\n",
    "    with open(os.getenv(\"OAR_NODEFILE\"), 'r') as f:\n",
    "        ncpu = len(f.readlines())\n",
    "\n",
    "def is_notebook() -> bool:\n",
    "    try:\n",
    "        shell = get_ipython().__class__.__name__\n",
    "        if shell == 'ZMQInteractiveShell':\n",
    "            return True   # Jupyter notebook or qtconsole\n",
    "        elif shell == 'TerminalInteractiveShell':\n",
    "            return False  # Terminal running IPython\n",
    "        else:\n",
    "            return False  # Other type (?)\n",
    "    except NameError:\n",
    "        return False      # Probably standard Python interpreter"
   ]
  },
  {
   "attachments": {},
   "cell_type": "markdown",
   "metadata": {},
   "source": [
    "### Useful functions"
   ]
  },
  {
   "cell_type": "code",
   "execution_count": 11,
   "metadata": {},
   "outputs": [],
   "source": [
    "def system_info():\n",
    "    return f\"CPU: {psutil.cpu_percent()}%\"\\\n",
    "        + f\", RAM: {psutil.virtual_memory().percent}%\"\\\n",
    "        + f\" ({psutil.virtual_memory().used/1024**3:.2f}GB\"\\\n",
    "        + f\"/ {psutil.virtual_memory().total/1024**3:.2f}GB)\""
   ]
  },
  {
   "attachments": {},
   "cell_type": "markdown",
   "metadata": {},
   "source": [
    "---\n",
    "\n",
    "<div align=center>\n",
    "\n",
    "# **Load data**\n",
    "\n",
    "</div>"
   ]
  },
  {
   "attachments": {},
   "cell_type": "markdown",
   "metadata": {},
   "source": [
    "### Read one file"
   ]
  },
  {
   "cell_type": "code",
   "execution_count": 12,
   "metadata": {},
   "outputs": [],
   "source": [
    "def load_file(file):\n",
    "\n",
    "    data = np.load(file)\n",
    "\n",
    "    x = {\n",
    "        # \"Dust Obs. Wavelenght [um]\": np.array([250.,]), # dust observation frequency [um}\n",
    "        \"Dust Map\" : data[\"dust_image\"].reshape(*data[\"dust_image\"].shape, 1), # adding a channel dimension\n",
    "        # \"CO Velocity\" : data[\"CO_v\"],\n",
    "        # \"CO Cube\" : data[\"CO_cube\"].reshape(*data[\"CO_cube\"].shape, 1), # adding a channel dimension\n",
    "        # \"N2H+ Velocity\" : data[\"N2H_v\"],\n",
    "        # \"N2H Cube\" : data[\"N2H_cube\"].reshape(*data[\"N2H_cube\"].shape, 1), # adding a channel dimension\n",
    "    }\n",
    "    \n",
    "    y = {\n",
    "        \"Mass\" : np.array(data[\"mass\"]),\n",
    "        # \"Max Temperature\" : np.array(np.amax(data[\"dust_temperature\"])),\n",
    "    }\n",
    "\n",
    "    return x, y"
   ]
  },
  {
   "attachments": {},
   "cell_type": "markdown",
   "metadata": {},
   "source": [
    "### Load data"
   ]
  },
  {
   "cell_type": "code",
   "execution_count": 13,
   "metadata": {},
   "outputs": [],
   "source": [
    "def load_data() -> tuple[np.ndarray, tuple[np.ndarray, np.ndarray, np.ndarray]]:\n",
    "    \"\"\"Do what you want int this function, as long as it returns the following:\n",
    "    - list[3D-ndarray] : input vectors\n",
    "    - list[3D-ndarray] : output vectors\n",
    "    \"\"\"\n",
    "\n",
    "    # Limit of the number of vectors to load\n",
    "    max_files = 1000\n",
    "    files = os.listdir(dataset_path)\n",
    "    nb_vectors = min(len(files), max_files)\n",
    "\n",
    "    # Load data\n",
    "    x = []\n",
    "    y = []\n",
    "    bar = progress.Bar(nb_vectors, \"Loading data\")\n",
    "    for i, file in enumerate(files):\n",
    "        if i >= nb_vectors:\n",
    "            break\n",
    "        bar(i, prefix=system_info())\n",
    "        \n",
    "        new_x, new_y = load_file(f\"{dataset_path}/{file}\")\n",
    "        x.append(new_x)\n",
    "        y.append(new_y)\n",
    "        \n",
    "    bar(nb_vectors)    \n",
    "    return x, y"
   ]
  },
  {
   "cell_type": "code",
   "execution_count": 41,
   "metadata": {},
   "outputs": [
    {
     "name": "stdout",
     "output_type": "stream",
     "text": [
      "\u001b[92m━━━━━━━━━━━━━━━━━━━━━━━━━━━━━━━━━━━━━━━━━━━━━━━━━━━━━━━━━ \u001b[92m100% \u001b[91m1000/1000 \u001b[35m0:00:03\u001b[0m3 \u001b[0meta \u001b[34m0:00:00\u001b[0m\n"
     ]
    }
   ],
   "source": [
    "x, y = load_data()\n",
    "nb_vectors = len(x)\n",
    "x_labels = list(x[0].keys())\n",
    "y_labels = list(y[0].keys())\n",
    "x_shapes = [i.shape for i in x[0].values()]\n",
    "y_shapes = [i.shape for i in y[0].values()]"
   ]
  },
  {
   "cell_type": "code",
   "execution_count": 42,
   "metadata": {},
   "outputs": [
    {
     "name": "stdout",
     "output_type": "stream",
     "text": [
      "Number of vectors: 1000\n",
      "X shapes:\n",
      " -  Dust Map : (64, 64, 1)\n",
      "y shapes:\n",
      " -  Mass : ()\n"
     ]
    }
   ],
   "source": [
    "print(f\"Number of vectors: {nb_vectors}\")\n",
    "print(f\"X shapes:\\n - \", '\\n - '.join([f\"{i[0]} : {i[1].shape}\" for i in x[0].items()]))\n",
    "print(f\"y shapes:\\n - \", '\\n - '.join([f\"{i[0]} : {i[1].shape}\" for i in y[0].items()]))"
   ]
  },
  {
   "attachments": {},
   "cell_type": "markdown",
   "metadata": {},
   "source": [
    "### Plot 10 random input vector "
   ]
  },
  {
   "cell_type": "code",
   "execution_count": 43,
   "metadata": {},
   "outputs": [
    {
     "data": {
      "image/png": "[encoded data removed]",
      "text/plain": [
       "<Figure size 1500x500 with 10 Axes>"
      ]
     },
     "metadata": {},
     "output_type": "display_data"
    }
   ],
   "source": [
    "if is_notebook():\n",
    "\n",
    "    nb_axs = 0\n",
    "    if \"Dust Map\" in x[0]: nb_axs += 1\n",
    "    if \"CO Cube\" in x[0]: nb_axs += 1\n",
    "    if \"N2H Cube\" in x[0]: nb_axs += 1\n",
    "\n",
    "    fig, axs = plt.subplots(nb_axs, 10, figsize=(15, 5))\n",
    "    if nb_axs == 1: axs = np.array([axs])\n",
    "\n",
    "    for i in range(10):\n",
    "        vec = np.random.randint(0, len(x)+1)\n",
    "        nb_axis = 0\n",
    "        if \"Dust Map\" in x[0]:\n",
    "            axs[nb_axis, i].imshow(x[vec][\"Dust Map\"])\n",
    "            axs[nb_axis, i].set_title(\"Dust map\")\n",
    "            nb_axis += 1\n",
    "        if \"CO Cube\" in x[0]:\n",
    "            axs[nb_axis, i].imshow(np.sum(x[vec][\"CO Cube\"], axis=(-1,-2)))\n",
    "            axs[nb_axis, i].set_title(f\"CO map\")\n",
    "            nb_axis += 1\n",
    "        if \"N2H Cube\" in x[0]:\n",
    "            axs[nb_axis, i].imshow(np.sum(x[vec][\"N2H Cube\"], axis=(-1,-2)))\n",
    "            axs[nb_axis, i].set_title(f\"N2H+ map\")\n",
    "            nb_axis += 1"
   ]
  },
  {
   "attachments": {},
   "cell_type": "markdown",
   "metadata": {},
   "source": [
    "---\n",
    "\n",
    "<div align=center>\n",
    "\n",
    "# **Post processing**\n",
    "\n",
    "</div>"
   ]
  },
  {
   "attachments": {},
   "cell_type": "markdown",
   "metadata": {},
   "source": [
    "### Normalisation"
   ]
  },
  {
   "cell_type": "code",
   "execution_count": 46,
   "metadata": {},
   "outputs": [],
   "source": [
    "def normalize(x):\n",
    "\n",
    "    # Set starting values\n",
    "\n",
    "    x_maxs = copy(x[0])\n",
    "    for key in x_maxs.keys():\n",
    "        x_maxs[key] = np.max(x[0][key])\n",
    "\n",
    "    # Increase value to the maximum encountered\n",
    "\n",
    "    for vector in x:\n",
    "        for key in vector.keys():\n",
    "            if (value := np.max(np.abs(vector[key]))) > x_maxs[key]:\n",
    "                x_maxs[key] = value\n",
    "\n",
    "    # Normalize all vectors elements\n",
    "\n",
    "    for i in range(len(x)):\n",
    "        for key in vector.keys():\n",
    "            x[i][key] /= x_maxs[key]\n",
    "\n",
    "    return x_maxs\n",
    "\n",
    "x_maxs = normalize(x)\n",
    "y_maxs = normalize(y)"
   ]
  },
  {
   "cell_type": "code",
   "execution_count": 45,
   "metadata": {},
   "outputs": [
    {
     "name": "stdout",
     "output_type": "stream",
     "text": [
      "Maximum values:\n"
     ]
    },
    {
     "data": {
      "text/html": [
       "<div>\n",
       "<style scoped>\n",
       "    .dataframe tbody tr th:only-of-type {\n",
       "        vertical-align: middle;\n",
       "    }\n",
       "\n",
       "    .dataframe tbody tr th {\n",
       "        vertical-align: top;\n",
       "    }\n",
       "\n",
       "    .dataframe thead th {\n",
       "        text-align: right;\n",
       "    }\n",
       "</style>\n",
       "<table border=\"1\" class=\"dataframe\">\n",
       "  <thead>\n",
       "    <tr style=\"text-align: right;\">\n",
       "      <th></th>\n",
       "      <th>Dust Map</th>\n",
       "      <th>Mass</th>\n",
       "    </tr>\n",
       "  </thead>\n",
       "  <tbody>\n",
       "    <tr>\n",
       "      <th>0</th>\n",
       "      <td>1154.924316</td>\n",
       "      <td>2.103129e+06</td>\n",
       "    </tr>\n",
       "  </tbody>\n",
       "</table>\n",
       "</div>"
      ],
      "text/plain": [
       "      Dust Map          Mass\n",
       "0  1154.924316  2.103129e+06"
      ]
     },
     "execution_count": 45,
     "metadata": {},
     "output_type": "execute_result"
    }
   ],
   "source": [
    "print(\"Maximum values:\")\n",
    "pd.DataFrame.from_records([x_maxs | y_maxs, ])"
   ]
  },
  {
   "attachments": {},
   "cell_type": "markdown",
   "metadata": {},
   "source": [
    "### Splitting datasets\n",
    "#### Train"
   ]
  },
  {
   "cell_type": "code",
   "execution_count": 47,
   "metadata": {},
   "outputs": [
    {
     "name": "stdout",
     "output_type": "stream",
     "text": [
      "Train set: 700 vectors\n"
     ]
    }
   ],
   "source": [
    "train_frac = 1 - valid_frac - test_frac\n",
    "\n",
    "train_x = x[:int(nb_vectors * train_frac)]\n",
    "train_y = y[:int(nb_vectors * train_frac)]\n",
    "\n",
    "print(f\"Train set: {len(train_x)} vectors\")"
   ]
  },
  {
   "attachments": {},
   "cell_type": "markdown",
   "metadata": {},
   "source": [
    "#### Validation"
   ]
  },
  {
   "cell_type": "code",
   "execution_count": 48,
   "metadata": {},
   "outputs": [
    {
     "name": "stdout",
     "output_type": "stream",
     "text": [
      "Valid set: 200 vectors\n"
     ]
    }
   ],
   "source": [
    "valid_x = x[int(nb_vectors * train_frac):int(nb_vectors * (train_frac + valid_frac))]\n",
    "valid_y = y[int(nb_vectors * train_frac):int(nb_vectors * (train_frac + valid_frac))]\n",
    "\n",
    "print(f\"Valid set: {len(valid_x)} vectors\")"
   ]
  },
  {
   "attachments": {},
   "cell_type": "markdown",
   "metadata": {},
   "source": [
    "#### Test"
   ]
  },
  {
   "cell_type": "code",
   "execution_count": 49,
   "metadata": {},
   "outputs": [
    {
     "name": "stdout",
     "output_type": "stream",
     "text": [
      "Test set: 100 vectors\n"
     ]
    }
   ],
   "source": [
    "test_x = x[int(nb_vectors * (train_frac + valid_frac)):]\n",
    "test_y = y[int(nb_vectors * (train_frac + valid_frac)):]\n",
    "\n",
    "print(f\"Test set: {len(test_x)} vectors\")"
   ]
  },
  {
   "attachments": {},
   "cell_type": "markdown",
   "metadata": {},
   "source": [
    "---\n",
    "\n",
    "<div align=center>\n",
    "\n",
    "# **Model definition**\n",
    "\n",
    "</div>\n",
    "\n",
    "### Build model"
   ]
  },
  {
   "cell_type": "code",
   "execution_count": 50,
   "metadata": {},
   "outputs": [],
   "source": [
    "def get_model(sample):\n",
    "    from keras.layers import Input, Dense, Conv2D, MaxPooling2D, MaxPooling3D, UpSampling2D, UpSampling3D, Reshape, Conv3DTranspose, Flatten\n",
    "    from keras.models import Model\n",
    "\n",
    "    inputs = {}\n",
    "    for key, value in sample.items():\n",
    "        print(key, *value.shape)\n",
    "        inputs.update({key: Input(shape=value.shape, name=key)})\n",
    "\n",
    "    # Encoder\n",
    "    # x = Conv2D(8, (5, 5), activation='relu', padding='same')(input)\n",
    "    # x = MaxPooling2D((4, 4), padding='same')(x)\n",
    "    # x = Conv2D(16, (3, 3), activation='relu', padding='same')(x)\n",
    "    # x = MaxPooling2D((4, 4), padding='same')(x)\n",
    "    # x = Flatten()(x)\n",
    "    # x = Dense(1024, activation='relu')(x)\n",
    "\n",
    "    x = Flatten()(inputs[\"Dust Map\"])\n",
    "\n",
    "    print(x.shape)\n",
    "\n",
    "    x = Dense(128, activation='relu')(x)\n",
    "    total_mass = Dense(1, activation='relu')(x)\n",
    "\n",
    "    # x = Flatten()(dust_map)\n",
    "    # x = Dense(128, activation='relu')(x)\n",
    "    # max_temperature = Dense(1, activation='relu')(x)\n",
    "\n",
    "    outputs = {\n",
    "        \"Mass\" : total_mass,\n",
    "    }\n",
    "\n",
    "    # Modèle d'auto-encodeur\n",
    "    model = Model(inputs, outputs)\n",
    "\n",
    "    return model"
   ]
  },
  {
   "attachments": {},
   "cell_type": "markdown",
   "metadata": {},
   "source": [
    "### Compile model and get summary"
   ]
  },
  {
   "cell_type": "code",
   "execution_count": 52,
   "metadata": {},
   "outputs": [
    {
     "name": "stdout",
     "output_type": "stream",
     "text": [
      "Dust Map 64 64 1\n",
      "(None, 4096)\n",
      "Model: \"model\"\n",
      "_________________________________________________________________\n",
      " Layer (type)                Output Shape              Param #   \n",
      "=================================================================\n",
      " Dust Map (InputLayer)       [(None, 64, 64, 1)]       0         \n",
      "                                                                 \n",
      " flatten (Flatten)           (None, 4096)              0         \n",
      "                                                                 \n",
      " dense (Dense)               (None, 128)               524416    \n",
      "                                                                 \n",
      " dense_1 (Dense)             (None, 1)                 129       \n",
      "                                                                 \n",
      "=================================================================\n",
      "Total params: 524,545\n",
      "Trainable params: 524,545\n",
      "Non-trainable params: 0\n",
      "_________________________________________________________________\n"
     ]
    }
   ],
   "source": [
    "model = get_model(x[0])\n",
    "\n",
    "def tf_pearson(y_true, y_pred):\n",
    "    return tf.contrib.metrics.streaming_pearson_correlation(y_pred, y_true)[1]\n",
    "\n",
    "model.compile(loss='mean_squared_error', optimizer='SGD', metrics=['mean_squared_error'])\n",
    "\n",
    "# Store and print model summary\n",
    "stringlist = []\n",
    "model.summary(print_fn=lambda x: stringlist.append(x))\n",
    "short_model_summary = \"\\n\".join(stringlist)\n",
    "print(short_model_summary)"
   ]
  },
  {
   "attachments": {},
   "cell_type": "markdown",
   "metadata": {},
   "source": [
    "### Human validation of the model"
   ]
  },
  {
   "cell_type": "code",
   "execution_count": null,
   "metadata": {},
   "outputs": [],
   "source": [
    "# choice = input(\"Continue ? [Y/n]\")\n",
    "\n",
    "# if choice.lower() not in [\"\", \"y\", \"yes\"]:\n",
    "#     exit()"
   ]
  },
  {
   "cell_type": "code",
   "execution_count": 55,
   "metadata": {},
   "outputs": [],
   "source": [
    "def to_dict_of_list(lst):\n",
    "    return {key: [dic[key] for dic in lst] for key in lst[0].keys()}"
   ]
  },
  {
   "attachments": {},
   "cell_type": "markdown",
   "metadata": {},
   "source": [
    "### Training model"
   ]
  },
  {
   "cell_type": "code",
   "execution_count": 56,
   "metadata": {},
   "outputs": [
    {
     "name": "stdout",
     "output_type": "stream",
     "text": [
      "\u001b[37m━━━━━━━━━━━━━━━━━━━━━━━━━━━━━━━━━━━━━━━━━━━━━━━━━━━━━━━ \u001b[92m0% \u001b[91m0/10000 \u001b[35m0:00:00 \u001b[0meta \u001b[34m-\u001b[0m\r"
     ]
    },
    {
     "ename": "IndexError",
     "evalue": "tuple index out of range",
     "output_type": "error",
     "traceback": [
      "\u001b[0;31m---------------------------------------------------------------------------\u001b[0m",
      "\u001b[0;31mIndexError\u001b[0m                                Traceback (most recent call last)",
      "Cell \u001b[0;32mIn[56], line 13\u001b[0m\n\u001b[1;32m      9\u001b[0m         \u001b[39mglobal\u001b[39;00m bar\n\u001b[1;32m     10\u001b[0m         bar(epoch, prefix \u001b[39m=\u001b[39m \u001b[39mf\u001b[39m\u001b[39m\"\u001b[39m\u001b[39mMSE: \u001b[39m\u001b[39m{\u001b[39;00mlogs[\u001b[39m'\u001b[39m\u001b[39mmean_squared_error\u001b[39m\u001b[39m'\u001b[39m]\u001b[39m:\u001b[39;00m\u001b[39m.2e\u001b[39m\u001b[39m}\u001b[39;00m\u001b[39m\"\u001b[39m)\n\u001b[0;32m---> 13\u001b[0m history \u001b[39m=\u001b[39m model\u001b[39m.\u001b[39;49mfit(to_dict_of_list(train_x), to_dict_of_list(train_y), epochs\u001b[39m=\u001b[39;49m\u001b[39m10000\u001b[39;49m, batch_size\u001b[39m=\u001b[39;49m\u001b[39m50\u001b[39;49m, validation_data\u001b[39m=\u001b[39;49m(to_dict_of_list(valid_x), to_dict_of_list(valid_y)), verbose\u001b[39m=\u001b[39;49m\u001b[39m0\u001b[39;49m, callbacks\u001b[39m=\u001b[39;49m[CustomCallback()],\n\u001b[1;32m     14\u001b[0m                     workers\u001b[39m=\u001b[39;49m\u001b[39m10\u001b[39;49m, use_multiprocessing\u001b[39m=\u001b[39;49m\u001b[39mTrue\u001b[39;49;00m)\n\u001b[1;32m     15\u001b[0m model\u001b[39m.\u001b[39msave(\u001b[39mf\u001b[39m\u001b[39m'\u001b[39m\u001b[39m{\u001b[39;00marchive_path\u001b[39m}\u001b[39;00m\u001b[39m/model0.h5\u001b[39m\u001b[39m'\u001b[39m)\n\u001b[1;32m     16\u001b[0m bar(epochs)\n",
      "File \u001b[0;32m~/M2-Prestel-state-from-obs-ML/venv/lib/python3.9/site-packages/keras/utils/traceback_utils.py:70\u001b[0m, in \u001b[0;36mfilter_traceback.<locals>.error_handler\u001b[0;34m(*args, **kwargs)\u001b[0m\n\u001b[1;32m     67\u001b[0m     filtered_tb \u001b[39m=\u001b[39m _process_traceback_frames(e\u001b[39m.\u001b[39m__traceback__)\n\u001b[1;32m     68\u001b[0m     \u001b[39m# To get the full stack trace, call:\u001b[39;00m\n\u001b[1;32m     69\u001b[0m     \u001b[39m# `tf.debugging.disable_traceback_filtering()`\u001b[39;00m\n\u001b[0;32m---> 70\u001b[0m     \u001b[39mraise\u001b[39;00m e\u001b[39m.\u001b[39mwith_traceback(filtered_tb) \u001b[39mfrom\u001b[39;00m \u001b[39mNone\u001b[39m\n\u001b[1;32m     71\u001b[0m \u001b[39mfinally\u001b[39;00m:\n\u001b[1;32m     72\u001b[0m     \u001b[39mdel\u001b[39;00m filtered_tb\n",
      "File \u001b[0;32m~/M2-Prestel-state-from-obs-ML/venv/lib/python3.9/site-packages/tensorflow/python/framework/tensor_shape.py:906\u001b[0m, in \u001b[0;36mTensorShape.__getitem__\u001b[0;34m(self, key)\u001b[0m\n\u001b[1;32m    904\u001b[0m \u001b[39melse\u001b[39;00m:\n\u001b[1;32m    905\u001b[0m   \u001b[39mif\u001b[39;00m \u001b[39mself\u001b[39m\u001b[39m.\u001b[39m_v2_behavior:\n\u001b[0;32m--> 906\u001b[0m     \u001b[39mreturn\u001b[39;00m \u001b[39mself\u001b[39;49m\u001b[39m.\u001b[39;49m_dims[key]\n\u001b[1;32m    907\u001b[0m   \u001b[39melse\u001b[39;00m:\n\u001b[1;32m    908\u001b[0m     \u001b[39mreturn\u001b[39;00m \u001b[39mself\u001b[39m\u001b[39m.\u001b[39mdims[key]\n",
      "\u001b[0;31mIndexError\u001b[0m: tuple index out of range"
     ]
    }
   ],
   "source": [
    "epochs = 10000\n",
    "\n",
    "bar = progress.Bar(epochs)\n",
    "bar(0)\n",
    "stage=0\n",
    "\n",
    "class CustomCallback(tf.keras.callbacks.Callback):\n",
    "    def on_epoch_end(self, epoch, logs=None):\n",
    "        global bar\n",
    "        bar(epoch, prefix = f\"MSE: {logs['mean_squared_error']:.2e}\")\n",
    "\n",
    "\n",
    "history = model.fit(to_dict_of_list(train_x), to_dict_of_list(train_y), epochs=10000, batch_size=50, validation_data=(to_dict_of_list(valid_x), to_dict_of_list(valid_y)), verbose=0, callbacks=[CustomCallback()],\n",
    "                    workers=10, use_multiprocessing=True)\n",
    "model.save(f'{archive_path}/model0.h5')\n",
    "bar(epochs)"
   ]
  },
  {
   "cell_type": "code",
   "execution_count": null,
   "metadata": {},
   "outputs": [],
   "source": [
    "plt.plot(history.history['mean_squared_error'], alpha=0.5)\n",
    "plt.plot(history.history['val_mean_squared_error'], alpha=0.5)\n",
    "plt.title('Model MSE')\n",
    "plt.ylabel('Mean square error')\n",
    "plt.xlabel('Epoch')\n",
    "plt.legend(['Train', 'Val'], loc='upper left')\n",
    "plt.show()\n"
   ]
  },
  {
   "cell_type": "code",
   "execution_count": null,
   "metadata": {},
   "outputs": [],
   "source": [
    "plt.plot(history.history['loss'], alpha=0.5)\n",
    "plt.plot(history.history['val_loss'], alpha=0.5)\n",
    "plt.title('Model loss')\n",
    "plt.ylabel('Loss')\n",
    "plt.xlabel('Epoch')\n",
    "plt.legend(['Train', 'Val'], loc='upper left')\n",
    "plt.show()"
   ]
  },
  {
   "cell_type": "code",
   "execution_count": null,
   "metadata": {},
   "outputs": [],
   "source": [
    "plt.plot(history.history['loss'], alpha=0.5)\n",
    "plt.plot(history.history['val_loss'], alpha=0.5)\n",
    "plt.title('Model loss')\n",
    "plt.ylabel('Loss')\n",
    "plt.xlabel('Epoch')\n",
    "plt.legend(['Train', 'Val'], loc='upper left')\n",
    "plt.xscale('log')\n",
    "plt.yscale('log')\n",
    "plt.show()"
   ]
  },
  {
   "attachments": {},
   "cell_type": "markdown",
   "metadata": {},
   "source": [
    "### Evaluating model"
   ]
  },
  {
   "cell_type": "code",
   "execution_count": null,
   "metadata": {},
   "outputs": [],
   "source": [
    "score = model.evaluate(test_x, test_y, verbose=0)\n",
    "print(\"Score:\", score)\n",
    "\n",
    "with open(f'{archive_path}/scores.txt', 'w') as f:\n",
    "    f.write(f'Score:    \\t{score}\\n')"
   ]
  },
  {
   "attachments": {},
   "cell_type": "markdown",
   "metadata": {},
   "source": [
    "---\n",
    "\n",
    "<div align=center>\n",
    "\n",
    "# **Predictions**\n",
    "\n",
    "</div>"
   ]
  },
  {
   "cell_type": "code",
   "execution_count": null,
   "metadata": {},
   "outputs": [],
   "source": [
    "r = np.random.randint(0, len(x)+1)\n",
    "x_prediction = np.array([x[r]])\n",
    "print(x_prediction.shape)\n",
    "\n",
    "y_prediction = model.predict(x_prediction)[0,0]\n",
    "print(y_prediction.shape)\n",
    "\n",
    "print(f\"Expected: {y[r] * y_maxs[0]:.2e} Msun\")\n",
    "print(f\"Predicted: {y_prediction * y_maxs[0]:.2e} Msun\")\n",
    "\n",
    "np.savez_compressed(f'{archive_path}/prediction.npz', x=x_prediction, y=y_prediction)"
   ]
  }
 ],
 "metadata": {
  "kernelspec": {
   "display_name": "Python 3 (ipykernel)",
   "language": "python",
   "name": "python3"
  },
  "language_info": {
   "codemirror_mode": {
    "name": "ipython",
    "version": 3
   },
   "file_extension": ".py",
   "mimetype": "text/x-python",
   "name": "python",
   "nbconvert_exporter": "python",
   "pygments_lexer": "ipython3",
   "version": "3.9.2"
  },
  "orig_nbformat": 4
 },
 "nbformat": 4,
 "nbformat_minor": 2
}
